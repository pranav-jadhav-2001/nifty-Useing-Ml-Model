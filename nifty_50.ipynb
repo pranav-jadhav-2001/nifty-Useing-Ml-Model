{
  "metadata": {
    "kernelspec": {
      "language": "python",
      "display_name": "Python 3",
      "name": "python3"
    },
    "language_info": {
      "pygments_lexer": "ipython3",
      "nbconvert_exporter": "python",
      "version": "3.6.4",
      "file_extension": ".py",
      "codemirror_mode": {
        "name": "ipython",
        "version": 3
      },
      "name": "python",
      "mimetype": "text/x-python"
    },
    "colab": {
      "name": "nifty-50.ipynb",
      "provenance": []
    }
  },
  "nbformat_minor": 0,
  "nbformat": 4,
  "cells": [
    {
      "cell_type": "code",
      "source": [
        "import numpy as np\n",
        "import pandas as pd \n",
        "import os\n",
        "for dirname, _, filenames in os.walk('/input'):\n",
        "    for filename in filenames:\n",
        "        print(os.path.join(dirname, filename))\n",
        "const dt = pd.read_csv('/National_Stock_Exchange_of_India_Ltd.csv');"
      ],
      "metadata": {
        "_uuid": "8f2839f25d086af736a60e9eeb907d3b93b6e0e5",
        "_cell_guid": "b1076dfc-b9ad-4769-8c92-a6c4dae69d19",
        "execution": {
          "iopub.status.busy": "2021-12-27T13:47:26.225248Z",
          "iopub.execute_input": "2021-12-27T13:47:26.225565Z",
          "iopub.status.idle": "2021-12-27T13:47:26.235643Z",
          "shell.execute_reply.started": "2021-12-27T13:47:26.225532Z",
          "shell.execute_reply": "2021-12-27T13:47:26.234707Z"
        },
        "trusted": true,
        "colab": {
          "base_uri": "https://localhost:8080/",
          "height": 131
        },
        "id": "TglLcqd8TJZx",
        "outputId": "06df6f8a-b7d9-401c-89a3-120d2e2ff7c8"
      },
      "execution_count": null,
      "outputs": [
        {
          "output_type": "error",
          "ename": "SyntaxError",
          "evalue": "ignored",
          "traceback": [
            "\u001b[0;36m  File \u001b[0;32m\"<ipython-input-3-bca2ba4c018e>\"\u001b[0;36m, line \u001b[0;32m7\u001b[0m\n\u001b[0;31m    const dt = pd.read_csv('/National_Stock_Exchange_of_India_Ltd.csv');\u001b[0m\n\u001b[0m           ^\u001b[0m\n\u001b[0;31mSyntaxError\u001b[0m\u001b[0;31m:\u001b[0m invalid syntax\n"
          ]
        }
      ]
    },
    {
      "cell_type": "code",
      "source": [
        "dt.head()"
      ],
      "metadata": {
        "id": "6JdX5_j3ZxN1",
        "colab": {
          "base_uri": "https://localhost:8080/",
          "height": 166
        },
        "outputId": "6a6f7359-131f-49da-8c5e-486d99f5f2b1"
      },
      "execution_count": null,
      "outputs": [
        {
          "output_type": "error",
          "ename": "NameError",
          "evalue": "ignored",
          "traceback": [
            "\u001b[0;31m---------------------------------------------------------------------------\u001b[0m",
            "\u001b[0;31mNameError\u001b[0m                                 Traceback (most recent call last)",
            "\u001b[0;32m<ipython-input-1-995cc6bc25a7>\u001b[0m in \u001b[0;36m<module>\u001b[0;34m()\u001b[0m\n\u001b[0;32m----> 1\u001b[0;31m \u001b[0mdt\u001b[0m\u001b[0;34m.\u001b[0m\u001b[0mhead\u001b[0m\u001b[0;34m(\u001b[0m\u001b[0;34m)\u001b[0m\u001b[0;34m\u001b[0m\u001b[0;34m\u001b[0m\u001b[0m\n\u001b[0m",
            "\u001b[0;31mNameError\u001b[0m: name 'dt' is not defined"
          ]
        }
      ]
    },
    {
      "cell_type": "code",
      "source": [
        "nifty_50.shape"
      ],
      "metadata": {
        "execution": {
          "iopub.status.busy": "2021-12-27T13:47:30.65932Z",
          "iopub.execute_input": "2021-12-27T13:47:30.659637Z",
          "iopub.status.idle": "2021-12-27T13:47:30.668517Z",
          "shell.execute_reply.started": "2021-12-27T13:47:30.659605Z",
          "shell.execute_reply": "2021-12-27T13:47:30.667737Z"
        },
        "trusted": true,
        "id": "iAqGwzjQTJZ5",
        "colab": {
          "base_uri": "https://localhost:8080/",
          "height": 166
        },
        "outputId": "bef080fd-896f-499a-fce3-33e83a02be61"
      },
      "execution_count": null,
      "outputs": [
        {
          "output_type": "error",
          "ename": "NameError",
          "evalue": "ignored",
          "traceback": [
            "\u001b[0;31m---------------------------------------------------------------------------\u001b[0m",
            "\u001b[0;31mNameError\u001b[0m                                 Traceback (most recent call last)",
            "\u001b[0;32m<ipython-input-2-58734806f555>\u001b[0m in \u001b[0;36m<module>\u001b[0;34m()\u001b[0m\n\u001b[0;32m----> 1\u001b[0;31m \u001b[0mnifty_50\u001b[0m\u001b[0;34m.\u001b[0m\u001b[0mshape\u001b[0m\u001b[0;34m\u001b[0m\u001b[0;34m\u001b[0m\u001b[0m\n\u001b[0m",
            "\u001b[0;31mNameError\u001b[0m: name 'nifty_50' is not defined"
          ]
        }
      ]
    },
    {
      "cell_type": "code",
      "source": [
        "nifty_50.head(10)"
      ],
      "metadata": {
        "execution": {
          "iopub.status.busy": "2021-12-27T13:47:32.575927Z",
          "iopub.execute_input": "2021-12-27T13:47:32.576477Z",
          "iopub.status.idle": "2021-12-27T13:47:32.608386Z",
          "shell.execute_reply.started": "2021-12-27T13:47:32.57644Z",
          "shell.execute_reply": "2021-12-27T13:47:32.607405Z"
        },
        "trusted": true,
        "id": "zz_IRL9YTJZ6",
        "colab": {
          "base_uri": "https://localhost:8080/",
          "height": 166
        },
        "outputId": "f819d523-bce8-4997-860a-be80a96e02ff"
      },
      "execution_count": null,
      "outputs": [
        {
          "output_type": "error",
          "ename": "NameError",
          "evalue": "ignored",
          "traceback": [
            "\u001b[0;31m---------------------------------------------------------------------------\u001b[0m",
            "\u001b[0;31mNameError\u001b[0m                                 Traceback (most recent call last)",
            "\u001b[0;32m<ipython-input-3-3e2cf2aaa1d5>\u001b[0m in \u001b[0;36m<module>\u001b[0;34m()\u001b[0m\n\u001b[0;32m----> 1\u001b[0;31m \u001b[0mnifty_50\u001b[0m\u001b[0;34m.\u001b[0m\u001b[0mhead\u001b[0m\u001b[0;34m(\u001b[0m\u001b[0;36m10\u001b[0m\u001b[0;34m)\u001b[0m\u001b[0;34m\u001b[0m\u001b[0;34m\u001b[0m\u001b[0m\n\u001b[0m",
            "\u001b[0;31mNameError\u001b[0m: name 'nifty_50' is not defined"
          ]
        }
      ]
    },
    {
      "cell_type": "code",
      "source": [
        "new=nifty_50.sort_values('365 d % chng',ascending = False).head(10)\n",
        "new[['Symbol','365 d % chng']]"
      ],
      "metadata": {
        "execution": {
          "iopub.status.busy": "2021-12-27T13:47:38.243492Z",
          "iopub.execute_input": "2021-12-27T13:47:38.243765Z",
          "iopub.status.idle": "2021-12-27T13:47:38.266221Z",
          "shell.execute_reply.started": "2021-12-27T13:47:38.243736Z",
          "shell.execute_reply": "2021-12-27T13:47:38.265248Z"
        },
        "trusted": true,
        "id": "Bq_zvG8FTJZ-",
        "colab": {
          "base_uri": "https://localhost:8080/",
          "height": 183
        },
        "outputId": "51aee283-ad22-42f7-926f-c962621b873f"
      },
      "execution_count": null,
      "outputs": [
        {
          "output_type": "error",
          "ename": "NameError",
          "evalue": "ignored",
          "traceback": [
            "\u001b[0;31m---------------------------------------------------------------------------\u001b[0m",
            "\u001b[0;31mNameError\u001b[0m                                 Traceback (most recent call last)",
            "\u001b[0;32m<ipython-input-4-5a0c4452f59f>\u001b[0m in \u001b[0;36m<module>\u001b[0;34m()\u001b[0m\n\u001b[0;32m----> 1\u001b[0;31m \u001b[0mnew\u001b[0m\u001b[0;34m=\u001b[0m\u001b[0mnifty_50\u001b[0m\u001b[0;34m.\u001b[0m\u001b[0msort_values\u001b[0m\u001b[0;34m(\u001b[0m\u001b[0;34m'365 d % chng'\u001b[0m\u001b[0;34m,\u001b[0m\u001b[0mascending\u001b[0m \u001b[0;34m=\u001b[0m \u001b[0;32mFalse\u001b[0m\u001b[0;34m)\u001b[0m\u001b[0;34m.\u001b[0m\u001b[0mhead\u001b[0m\u001b[0;34m(\u001b[0m\u001b[0;36m10\u001b[0m\u001b[0;34m)\u001b[0m\u001b[0;34m\u001b[0m\u001b[0;34m\u001b[0m\u001b[0m\n\u001b[0m\u001b[1;32m      2\u001b[0m \u001b[0mnew\u001b[0m\u001b[0;34m[\u001b[0m\u001b[0;34m[\u001b[0m\u001b[0;34m'Symbol'\u001b[0m\u001b[0;34m,\u001b[0m\u001b[0;34m'365 d % chng'\u001b[0m\u001b[0;34m]\u001b[0m\u001b[0;34m]\u001b[0m\u001b[0;34m\u001b[0m\u001b[0;34m\u001b[0m\u001b[0m\n",
            "\u001b[0;31mNameError\u001b[0m: name 'nifty_50' is not defined"
          ]
        }
      ]
    },
    {
      "cell_type": "code",
      "source": [
        "top_losers_year=nifty_50[nifty_50['365 d % chng']<0]\n",
        "df=top_losers_year.sort_values('365 d % chng')\n",
        "df[['Symbol','365 d % chng']]"
      ],
      "metadata": {
        "execution": {
          "iopub.status.busy": "2021-12-27T14:00:18.654381Z",
          "iopub.execute_input": "2021-12-27T14:00:18.65466Z",
          "iopub.status.idle": "2021-12-27T14:00:18.669157Z",
          "shell.execute_reply.started": "2021-12-27T14:00:18.65463Z",
          "shell.execute_reply": "2021-12-27T14:00:18.668045Z"
        },
        "trusted": true,
        "id": "ixGtv5YOTJaB",
        "colab": {
          "base_uri": "https://localhost:8080/",
          "height": 201
        },
        "outputId": "4b255669-0804-4b90-f3b7-6d362734065c"
      },
      "execution_count": null,
      "outputs": [
        {
          "output_type": "error",
          "ename": "NameError",
          "evalue": "ignored",
          "traceback": [
            "\u001b[0;31m---------------------------------------------------------------------------\u001b[0m",
            "\u001b[0;31mNameError\u001b[0m                                 Traceback (most recent call last)",
            "\u001b[0;32m<ipython-input-9-2e036e69aad7>\u001b[0m in \u001b[0;36m<module>\u001b[0;34m()\u001b[0m\n\u001b[0;32m----> 1\u001b[0;31m \u001b[0mtop_losers_year\u001b[0m\u001b[0;34m=\u001b[0m\u001b[0mnifty_50\u001b[0m\u001b[0;34m[\u001b[0m\u001b[0mnifty_50\u001b[0m\u001b[0;34m[\u001b[0m\u001b[0;34m'365 d % chng'\u001b[0m\u001b[0;34m]\u001b[0m\u001b[0;34m<\u001b[0m\u001b[0;36m0\u001b[0m\u001b[0;34m]\u001b[0m\u001b[0;34m\u001b[0m\u001b[0;34m\u001b[0m\u001b[0m\n\u001b[0m\u001b[1;32m      2\u001b[0m \u001b[0mdf\u001b[0m\u001b[0;34m=\u001b[0m\u001b[0mtop_losers_year\u001b[0m\u001b[0;34m.\u001b[0m\u001b[0msort_values\u001b[0m\u001b[0;34m(\u001b[0m\u001b[0;34m'365 d % chng'\u001b[0m\u001b[0;34m)\u001b[0m\u001b[0;34m\u001b[0m\u001b[0;34m\u001b[0m\u001b[0m\n\u001b[1;32m      3\u001b[0m \u001b[0mdf\u001b[0m\u001b[0;34m[\u001b[0m\u001b[0;34m[\u001b[0m\u001b[0;34m'Symbol'\u001b[0m\u001b[0;34m,\u001b[0m\u001b[0;34m'365 d % chng'\u001b[0m\u001b[0;34m]\u001b[0m\u001b[0;34m]\u001b[0m\u001b[0;34m\u001b[0m\u001b[0;34m\u001b[0m\u001b[0m\n",
            "\u001b[0;31mNameError\u001b[0m: name 'nifty_50' is not defined"
          ]
        }
      ]
    },
    {
      "cell_type": "code",
      "source": [
        "nifty_50.sort_values('30 d % chng',ascending = False).head(10)"
      ],
      "metadata": {
        "execution": {
          "iopub.status.busy": "2021-12-27T13:01:53.310412Z",
          "iopub.execute_input": "2021-12-27T13:01:53.311336Z",
          "iopub.status.idle": "2021-12-27T13:01:53.33465Z",
          "shell.execute_reply.started": "2021-12-27T13:01:53.311298Z",
          "shell.execute_reply": "2021-12-27T13:01:53.333688Z"
        },
        "trusted": true,
        "id": "hweTHLUrTJaD",
        "colab": {
          "base_uri": "https://localhost:8080/",
          "height": 166
        },
        "outputId": "b5b8b888-5ee8-4dca-e66d-810b2390c44f"
      },
      "execution_count": null,
      "outputs": [
        {
          "output_type": "error",
          "ename": "NameError",
          "evalue": "ignored",
          "traceback": [
            "\u001b[0;31m---------------------------------------------------------------------------\u001b[0m",
            "\u001b[0;31mNameError\u001b[0m                                 Traceback (most recent call last)",
            "\u001b[0;32m<ipython-input-8-77332ae2b948>\u001b[0m in \u001b[0;36m<module>\u001b[0;34m()\u001b[0m\n\u001b[0;32m----> 1\u001b[0;31m \u001b[0mnifty_50\u001b[0m\u001b[0;34m.\u001b[0m\u001b[0msort_values\u001b[0m\u001b[0;34m(\u001b[0m\u001b[0;34m'30 d % chng'\u001b[0m\u001b[0;34m,\u001b[0m\u001b[0mascending\u001b[0m \u001b[0;34m=\u001b[0m \u001b[0;32mFalse\u001b[0m\u001b[0;34m)\u001b[0m\u001b[0;34m.\u001b[0m\u001b[0mhead\u001b[0m\u001b[0;34m(\u001b[0m\u001b[0;36m10\u001b[0m\u001b[0;34m)\u001b[0m\u001b[0;34m\u001b[0m\u001b[0;34m\u001b[0m\u001b[0m\n\u001b[0m",
            "\u001b[0;31mNameError\u001b[0m: name 'nifty_50' is not defined"
          ]
        }
      ]
    },
    {
      "cell_type": "code",
      "source": [
        "nifty_50.sort_values('% Chng',ascending = False).head(10)"
      ],
      "metadata": {
        "execution": {
          "iopub.status.busy": "2021-12-27T13:02:49.134622Z",
          "iopub.execute_input": "2021-12-27T13:02:49.134908Z",
          "iopub.status.idle": "2021-12-27T13:02:49.157387Z",
          "shell.execute_reply.started": "2021-12-27T13:02:49.134878Z",
          "shell.execute_reply": "2021-12-27T13:02:49.156409Z"
        },
        "trusted": true,
        "id": "J3Vu_iS9TJaE",
        "colab": {
          "base_uri": "https://localhost:8080/",
          "height": 166
        },
        "outputId": "506c3c9a-80c8-47fc-ea66-f03cf49cbbf0"
      },
      "execution_count": null,
      "outputs": [
        {
          "output_type": "error",
          "ename": "NameError",
          "evalue": "ignored",
          "traceback": [
            "\u001b[0;31m---------------------------------------------------------------------------\u001b[0m",
            "\u001b[0;31mNameError\u001b[0m                                 Traceback (most recent call last)",
            "\u001b[0;32m<ipython-input-7-fb1f653586a0>\u001b[0m in \u001b[0;36m<module>\u001b[0;34m()\u001b[0m\n\u001b[0;32m----> 1\u001b[0;31m \u001b[0mnifty_50\u001b[0m\u001b[0;34m.\u001b[0m\u001b[0msort_values\u001b[0m\u001b[0;34m(\u001b[0m\u001b[0;34m'% Chng'\u001b[0m\u001b[0;34m,\u001b[0m\u001b[0mascending\u001b[0m \u001b[0;34m=\u001b[0m \u001b[0;32mFalse\u001b[0m\u001b[0;34m)\u001b[0m\u001b[0;34m.\u001b[0m\u001b[0mhead\u001b[0m\u001b[0;34m(\u001b[0m\u001b[0;36m10\u001b[0m\u001b[0;34m)\u001b[0m\u001b[0;34m\u001b[0m\u001b[0;34m\u001b[0m\u001b[0m\n\u001b[0m",
            "\u001b[0;31mNameError\u001b[0m: name 'nifty_50' is not defined"
          ]
        }
      ]
    },
    {
      "cell_type": "code",
      "source": [
        "nifty_50.sort_values('Volume (lacs)',ascending = False).head(10)"
      ],
      "metadata": {
        "execution": {
          "iopub.status.busy": "2021-12-27T13:46:06.377771Z",
          "iopub.execute_input": "2021-12-27T13:46:06.378083Z",
          "iopub.status.idle": "2021-12-27T13:46:06.452546Z",
          "shell.execute_reply.started": "2021-12-27T13:46:06.378043Z",
          "shell.execute_reply": "2021-12-27T13:46:06.451095Z"
        },
        "trusted": true,
        "id": "fr093r0UTJaG",
        "colab": {
          "base_uri": "https://localhost:8080/",
          "height": 166
        },
        "outputId": "327bc159-73ca-42c6-b74a-1d546fcfc9b6"
      },
      "execution_count": null,
      "outputs": [
        {
          "output_type": "error",
          "ename": "NameError",
          "evalue": "ignored",
          "traceback": [
            "\u001b[0;31m---------------------------------------------------------------------------\u001b[0m",
            "\u001b[0;31mNameError\u001b[0m                                 Traceback (most recent call last)",
            "\u001b[0;32m<ipython-input-6-c4f4b4df1821>\u001b[0m in \u001b[0;36m<module>\u001b[0;34m()\u001b[0m\n\u001b[0;32m----> 1\u001b[0;31m \u001b[0mnifty_50\u001b[0m\u001b[0;34m.\u001b[0m\u001b[0msort_values\u001b[0m\u001b[0;34m(\u001b[0m\u001b[0;34m'Volume (lacs)'\u001b[0m\u001b[0;34m,\u001b[0m\u001b[0mascending\u001b[0m \u001b[0;34m=\u001b[0m \u001b[0;32mFalse\u001b[0m\u001b[0;34m)\u001b[0m\u001b[0;34m.\u001b[0m\u001b[0mhead\u001b[0m\u001b[0;34m(\u001b[0m\u001b[0;36m10\u001b[0m\u001b[0;34m)\u001b[0m\u001b[0;34m\u001b[0m\u001b[0;34m\u001b[0m\u001b[0m\n\u001b[0m",
            "\u001b[0;31mNameError\u001b[0m: name 'nifty_50' is not defined"
          ]
        }
      ]
    }
  ]
}